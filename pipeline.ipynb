{
 "cells": [
  {
   "cell_type": "code",
   "execution_count": 1,
   "metadata": {},
   "outputs": [],
   "source": [
    "import os\n",
    "from web3 import Web3\n",
    "from time import time\n",
    "from datetime import datetime\n",
    "import asyncio\n",
    "from concurrent.futures import ThreadPoolExecutor"
   ]
  },
  {
   "cell_type": "code",
   "execution_count": 2,
   "metadata": {},
   "outputs": [],
   "source": [
    "chainstack_rpc = os.environ.get('CHAINSTACK')\n",
    "alchemy_rpc = os.environ.get('ALCHEMY')\n",
    "ankr_rpc = os.environ.get('ANKR')\n",
    "quicknode_rpc = os.environ.get('QUICKNODE')\n",
    "infura_rpc = os.environ.get('INFURA')\n",
    "getblock_rpc = os.environ.get('GETBLOCK')\n"
   ]
  },
  {
   "cell_type": "code",
   "execution_count": 50,
   "metadata": {},
   "outputs": [],
   "source": [
    "list_output = []"
   ]
  },
  {
   "cell_type": "code",
   "execution_count": 51,
   "metadata": {},
   "outputs": [],
   "source": [
    "\n",
    "def latest_block(provider,token):\n",
    "    \n",
    "    w3 = Web3(Web3.HTTPProvider(token))\n",
    "    t_start = time()\n",
    "    block = w3.eth.get_block('latest')\n",
    "    t_end = time()\n",
    "    return [datetime.utcfromtimestamp(t_start).strftime('%Y-%m-%d %H:%M:%S'),provider,t_end-t_start,datetime.utcfromtimestamp(block['timestamp']).strftime('%Y-%m-%d %H:%M:%S'),block['number']]\n",
    "\n",
    "def main():\n",
    "    # URLs to make requests to\n",
    "    providers_dict = {\n",
    "        'chainstack':chainstack_rpc,\n",
    "        'alchemy':alchemy_rpc,\n",
    "        'ankr':ankr_rpc,\n",
    "        'quicknode':quicknode_rpc,\n",
    "        'infura':infura_rpc,\n",
    "        'getblock':getblock_rpc\n",
    "    }\n",
    "\n",
    "    # Using ThreadPoolExecutor to run requests in parallel\n",
    "    with ThreadPoolExecutor() as executor:\n",
    "        results = list(executor.map(lambda args: latest_block(*args), providers_dict.items()))\n",
    "\n",
    "    \n",
    "    for i in results:\n",
    "        list_output.append(i)\n",
    "    "
   ]
  },
  {
   "cell_type": "code",
   "execution_count": 52,
   "metadata": {},
   "outputs": [],
   "source": [
    "main()"
   ]
  },
  {
   "cell_type": "code",
   "execution_count": 53,
   "metadata": {},
   "outputs": [
    {
     "data": {
      "text/plain": [
       "[['2024-01-30 01:59:44',\n",
       "  'chainstack',\n",
       "  0.24441862106323242,\n",
       "  '2024-01-30 01:59:35',\n",
       "  19116203]]"
      ]
     },
     "execution_count": 53,
     "metadata": {},
     "output_type": "execute_result"
    }
   ],
   "source": [
    "list_output"
   ]
  },
  {
   "cell_type": "code",
   "execution_count": null,
   "metadata": {},
   "outputs": [],
   "source": []
  }
 ],
 "metadata": {
  "kernelspec": {
   "display_name": "Python 3 (ipykernel)",
   "language": "python",
   "name": "python3"
  },
  "language_info": {
   "codemirror_mode": {
    "name": "ipython",
    "version": 3
   },
   "file_extension": ".py",
   "mimetype": "text/x-python",
   "name": "python",
   "nbconvert_exporter": "python",
   "pygments_lexer": "ipython3",
   "version": "3.10.13"
  }
 },
 "nbformat": 4,
 "nbformat_minor": 2
}
